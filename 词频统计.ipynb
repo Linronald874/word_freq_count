{
 "cells": [
  {
   "cell_type": "code",
   "execution_count": 2,
   "metadata": {},
   "outputs": [],
   "source": [
    "my_text = \"\"\"We computed the 4D PSDs of the turbulent magnetic and electric fields measured in the terrestrial magnetosheath, recalculated the frequency in the plasma frame from its counterpart in the spacecraft frame based on the effect of Doppler-shift, and consequently reconstructed the PSDs with the frequency in the plasma frame. Both $P_{\\rm\\mathbf{B}}$ and $P_{\\rm{\\mathbf{E}}'_{\\langle \\rm{\\mathbf{v}_i}\\rangle}}$ have typical anisotropy in the 2D plane of ($k_\\|,k_\\perp$), but $P_{\\rm{\\mathbf{E}}'_{\\langle \\rm{\\mathbf{v}_i}\\rangle}}$ looks less anisotropic. Non-gyrotropy in the ($k_{\\perp1},k_{\\perp2}$) plane is also presented, consistent with the report by \\citet{Roberts2019}. Such non-gyrotropy with some elongation of PSD along a certain direction seems to be a manifestation that oblique kinetic Alfvén waves at various $\\mathbf{k}_\\perp$ are concentrated within a finite range of angles, instead of the $2\\pi$ omni-direction.\"\"\""
   ]
  },
  {
   "cell_type": "code",
   "execution_count": 3,
   "metadata": {},
   "outputs": [
    {
     "name": "stdout",
     "output_type": "stream",
     "text": [
      "We computed the 4D PSDs of the turbulent magnetic and electric fields measured in the terrestrial magnetosheath, recalculated the frequency in the plasma frame from its counterpart in the spacecraft frame based on the effect of Doppler-shift, and consequently reconstructed the PSDs with the frequency in the plasma frame. Both $P_{\r",
      "m\\mathbf{B}}$ and $P_{\r",
      "m{\\mathbf{E}}'_{\\langle \r",
      "m{\\mathbf{v}_i}\r",
      "angle}}$ have typical anisotropy in the 2D plane of ($k_\\|,k_\\perp$), but $P_{\r",
      "m{\\mathbf{E}}'_{\\langle \r",
      "m{\\mathbf{v}_i}\r",
      "angle}}$ looks less anisotropic. Non-gyrotropy in the ($k_{\\perp1},k_{\\perp2}$) plane is also presented, consistent with the report by \\citet{Roberts2019}. Such non-gyrotropy with some elongation of PSD along a certain direction seems to be a manifestation that oblique kinetic Alfvén waves at various $\\mathbf{k}_\\perp$ are concentrated within a finite range of angles, instead of the $2\\pi$ omni-direction.\n"
     ]
    }
   ],
   "source": [
    "word_list = list()\n",
    "count_list = list()\n",
    "print(my_text)"
   ]
  },
  {
   "cell_type": "code",
   "execution_count": 4,
   "metadata": {},
   "outputs": [],
   "source": [
    "import re\n",
    "for segment in re.split('\\W',my_text):\n",
    "#     print(segment)\n",
    "    if '-' in segment:\n",
    "        continue\n",
    "    word_list.append(segment.lower())"
   ]
  },
  {
   "cell_type": "code",
   "execution_count": 5,
   "metadata": {},
   "outputs": [],
   "source": [
    "word_set = set(word_list)\n",
    "word_list_final = list()\n",
    "for word in word_set:\n",
    "    if word:\n",
    "        word_list_final.append(word)\n",
    "        count_list.append(word_list.count(word))"
   ]
  },
  {
   "cell_type": "code",
   "execution_count": 6,
   "metadata": {},
   "outputs": [],
   "source": [
    "import pandas as pd\n",
    "word_stat = pd.DataFrame()\n",
    "word_stat['word'] = word_list_final\n",
    "word_stat['count'] = count_list"
   ]
  },
  {
   "cell_type": "code",
   "execution_count": 7,
   "metadata": {},
   "outputs": [
    {
     "data": {
      "text/html": [
       "<div>\n",
       "<style scoped>\n",
       "    .dataframe tbody tr th:only-of-type {\n",
       "        vertical-align: middle;\n",
       "    }\n",
       "\n",
       "    .dataframe tbody tr th {\n",
       "        vertical-align: top;\n",
       "    }\n",
       "\n",
       "    .dataframe thead th {\n",
       "        text-align: right;\n",
       "    }\n",
       "</style>\n",
       "<table border=\"1\" class=\"dataframe\">\n",
       "  <thead>\n",
       "    <tr style=\"text-align: right;\">\n",
       "      <th></th>\n",
       "      <th>word</th>\n",
       "      <th>count</th>\n",
       "    </tr>\n",
       "  </thead>\n",
       "  <tbody>\n",
       "    <tr>\n",
       "      <th>0</th>\n",
       "      <td>spacecraft</td>\n",
       "      <td>1</td>\n",
       "    </tr>\n",
       "    <tr>\n",
       "      <th>1</th>\n",
       "      <td>angles</td>\n",
       "      <td>1</td>\n",
       "    </tr>\n",
       "    <tr>\n",
       "      <th>2</th>\n",
       "      <td>psd</td>\n",
       "      <td>1</td>\n",
       "    </tr>\n",
       "    <tr>\n",
       "      <th>3</th>\n",
       "      <td>plane</td>\n",
       "      <td>2</td>\n",
       "    </tr>\n",
       "    <tr>\n",
       "      <th>4</th>\n",
       "      <td>e</td>\n",
       "      <td>2</td>\n",
       "    </tr>\n",
       "    <tr>\n",
       "      <th>...</th>\n",
       "      <td>...</td>\n",
       "      <td>...</td>\n",
       "    </tr>\n",
       "    <tr>\n",
       "      <th>90</th>\n",
       "      <td>langle</td>\n",
       "      <td>2</td>\n",
       "    </tr>\n",
       "    <tr>\n",
       "      <th>91</th>\n",
       "      <td>we</td>\n",
       "      <td>1</td>\n",
       "    </tr>\n",
       "    <tr>\n",
       "      <th>92</th>\n",
       "      <td>computed</td>\n",
       "      <td>1</td>\n",
       "    </tr>\n",
       "    <tr>\n",
       "      <th>93</th>\n",
       "      <td>some</td>\n",
       "      <td>1</td>\n",
       "    </tr>\n",
       "    <tr>\n",
       "      <th>94</th>\n",
       "      <td>k</td>\n",
       "      <td>1</td>\n",
       "    </tr>\n",
       "  </tbody>\n",
       "</table>\n",
       "<p>95 rows × 2 columns</p>\n",
       "</div>"
      ],
      "text/plain": [
       "          word  count\n",
       "0   spacecraft      1\n",
       "1       angles      1\n",
       "2          psd      1\n",
       "3        plane      2\n",
       "4            e      2\n",
       "..         ...    ...\n",
       "90      langle      2\n",
       "91          we      1\n",
       "92    computed      1\n",
       "93        some      1\n",
       "94           k      1\n",
       "\n",
       "[95 rows x 2 columns]"
      ]
     },
     "execution_count": 7,
     "metadata": {},
     "output_type": "execute_result"
    }
   ],
   "source": [
    "word_stat"
   ]
  },
  {
   "cell_type": "code",
   "execution_count": 8,
   "metadata": {},
   "outputs": [],
   "source": [
    "word_stat.to_csv('word_stat.csv')"
   ]
  },
  {
   "cell_type": "code",
   "execution_count": null,
   "metadata": {},
   "outputs": [],
   "source": []
  }
 ],
 "metadata": {
  "kernelspec": {
   "display_name": "Python 3",
   "language": "python",
   "name": "python3"
  },
  "language_info": {
   "codemirror_mode": {
    "name": "ipython",
    "version": 3
   },
   "file_extension": ".py",
   "mimetype": "text/x-python",
   "name": "python",
   "nbconvert_exporter": "python",
   "pygments_lexer": "ipython3",
   "version": "3.6.4"
  }
 },
 "nbformat": 4,
 "nbformat_minor": 2
}
